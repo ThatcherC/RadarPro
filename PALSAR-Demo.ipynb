{
 "cells": [
  {
   "cell_type": "code",
   "execution_count": 1,
   "metadata": {},
   "outputs": [
    {
     "name": "stderr",
     "output_type": "stream",
     "text": [
      "\n",
      "(julia:22008): Gtk-WARNING **: 22:18:12.061: Theme parsing error: gtk.css:1511:23: 'font-feature-settings' is not a valid property name\n",
      "\n",
      "(julia:22008): Gtk-WARNING **: 22:18:12.065: Theme parsing error: gtk.css:3437:25: 'font-feature-settings' is not a valid property name\n",
      "\n",
      "(julia:22008): Gtk-WARNING **: 22:18:12.067: Theme parsing error: gtk.css:3899:23: 'font-feature-settings' is not a valid property name\n",
      "Gtk-Message: 22:18:12.099: Failed to load module \"canberra-gtk-module\"\n",
      "Gtk-Message: 22:18:12.100: Failed to load module \"canberra-gtk-module\"\n"
     ]
    }
   ],
   "source": [
    "using Plots\n",
    "using Images\n",
    "using ImageView\n",
    "using Statistics\n",
    "using Colors\n",
    "using Serialization\n",
    "using AbstractFFTs"
   ]
  },
  {
   "cell_type": "code",
   "execution_count": 2,
   "metadata": {},
   "outputs": [
    {
     "data": {
      "text/plain": [
       "\"IMG-HH\""
      ]
     },
     "execution_count": 2,
     "metadata": {},
     "output_type": "execute_result"
    }
   ],
   "source": [
    "imagename = \"IMG-HH\""
   ]
  },
  {
   "cell_type": "markdown",
   "metadata": {
    "heading_collapsed": true
   },
   "source": [
    "## Schema"
   ]
  },
  {
   "cell_type": "code",
   "execution_count": 3,
   "metadata": {
    "code_folding": [
     25
    ],
    "hidden": true
   },
   "outputs": [
    {
     "data": {
      "text/plain": [
       "parseFile (generic function with 2 methods)"
      ]
     },
     "execution_count": 3,
     "metadata": {},
     "output_type": "execute_result"
    }
   ],
   "source": [
    "function bytesToString(file, start, stop)\n",
    "    len = stop-start+1\n",
    "    seek(file,start-1)\n",
    "    String(read(file,len))\n",
    "end\n",
    "\n",
    "function bytesToUInt32(file, start, stop)\n",
    "    #TODO check if range matches size\n",
    "    seek(file, start-1)\n",
    "    num = try\n",
    "        read(file,UInt32)\n",
    "    catch\n",
    "        0\n",
    "    end\n",
    "    Int32(ntoh(num))\n",
    "end\n",
    "\n",
    "function bytesToUInt16(file, start, stop)\n",
    "    #TODO check if range matches size\n",
    "    seek(file, start-1)\n",
    "    Int16(ntoh(read(file,UInt16)))\n",
    "end\n",
    "\n",
    "function bytesToArray(file, start, stop)\n",
    "    len = stop-start+1\n",
    "    seek(file, start-1)\n",
    "    read(file,len)\n",
    "end\n",
    "\n",
    "#Image File Descriptor\n",
    "imageFileDescrictorScheme = [    \n",
    "        (\"length\", (9, 12), bytesToUInt32),\n",
    "        (\"numSignals\", (181, 186), bytesToString),\n",
    "        (\"sarDataBytes\", (187, 192), bytesToString),\n",
    "        (\"bitsPerSample\", (217, 220), bytesToString),\n",
    "        (\"samplesPerPixel\", (221, 224), bytesToString), #could be 1 or 2 (IQ or A)\n",
    "        #245-272 - borders and interleaving\n",
    "        (\"physicalRecordsPerLine\", (273, 274), bytesToString),\n",
    "        #281-400 - unexplored\n",
    "        (\"sarDataFormat\", (401, 428), bytesToString),\n",
    "        (\"sarDataFormatTypeCode\", (429,432), bytesToString)\n",
    "        \n",
    "        ]\n",
    "\n",
    "signalDataRecordScheme = [\n",
    "        (\"recordSequenceNumber\", (1,4), bytesToUInt32),\n",
    "        (\"lengthOfRecord\", (9,12), bytesToUInt32),\n",
    "        (\"sarImageDatalineNumber\", (13, 16), bytesToUInt32),\n",
    "        (\"pixelCount\", (25, 28), bytesToUInt32),\n",
    "        #33-56 - instrument settings\n",
    "        #57-84 - chirp characteristics\n",
    "        (\"PRF (mHz)\", (57,60), bytesToUInt32),\n",
    "        (\"Chirp type\", (67,68), bytesToUInt16),    #0 for linear\n",
    "        \n",
    "        #93-388 - platform info - important!!!\n",
    "        (\"Valid\", (97,100),bytesToUInt32),\n",
    "        (\"Electronic Squint 1\",(101,104),bytesToUInt32),\n",
    "        (\"Electronic Squint 2\",(109,112),bytesToUInt32),\n",
    "        (\"Mechanical Squint\",(113,116),bytesToUInt32),\n",
    "        (\"FirstSampleRange (m)\",(117,120),bytesToUInt32),\n",
    "        (\"Platform Altitude (m)\",(141,144),bytesToUInt32),\n",
    "        (\"Platform Ground Speed (cm/s)\",(145,148),bytesToUInt32),\n",
    "        (\"signalData\", (413, 10800), bytesToArray)\n",
    "        ]\n",
    "\n",
    "datasetSummaryRecordScheme = [\n",
    "    (\"wavelength\", (501,516), bytesToString),\n",
    "    (\"chirpType\", (519,534), bytesToString),\n",
    "    (\"coeffs\",(534,694),bytesToString),\n",
    "    (\"samplingRate\",(711,726), bytesToString),\n",
    "    (\"pulseLength\",(743,758),bytesToString),      #us\n",
    "    (\"PRF\", (935,950), bytesToString),            #mHz\n",
    "    (\"doppler\", (1415,1654), bytesToString)\n",
    "]\n",
    "\n",
    "function parseFile(file,scheme,offset=0)\n",
    "    keyMap = Dict([])\n",
    "    for i=1:length(scheme)\n",
    "        keyMap[scheme[i][1]] = i  #make dictionary mapping field names to indices\n",
    "    end\n",
    "    results = []\n",
    "    for (name, (start, stop), f) in scheme\n",
    "        len  = stop-start+1\n",
    "        push!(results, f(file,start+offset,stop+offset))\n",
    "    end\n",
    "    return (key=keyMap, fields=results)\n",
    "end"
   ]
  },
  {
   "cell_type": "markdown",
   "metadata": {
    "heading_collapsed": true
   },
   "source": [
    "## File Processing\n",
    "This stage converts a `.0__A` file downloaded from ASF Vertex into a serialized Julia object in a `.ser` file. Can be skipped if you've already produced a `.ser` file for the SAR image you want to process."
   ]
  },
  {
   "cell_type": "code",
   "execution_count": 8,
   "metadata": {
    "code_folding": [],
    "hidden": true,
    "scrolled": true
   },
   "outputs": [
    {
     "name": "stdout",
     "output_type": "stream",
     "text": [
      "10000   12476B    119.958492 MB\n",
      "20000   12476B    239.918492 MB\n",
      "30000   12476B    359.878492 MB\n",
      "423.07342 MB\n"
     ]
    }
   ],
   "source": [
    "file = open(\"Cape/$imagename.0__A\")\n",
    "\n",
    "imageDescriptor = parseFile(file,imageFileDescrictorScheme)\n",
    "sarDataBytes    = parse(Int64,imageDescriptor.fields[imageDescriptor.key[\"sarDataBytes\"]])\n",
    "numSignals      = parse(Int64,imageDescriptor.fields[imageDescriptor.key[\"numSignals\"]])\n",
    "\n",
    "signalRecords = [ ]\n",
    "\n",
    "for i = 1:(numSignals-1)\n",
    "    parsedRecord = parseFile(file,signalDataRecordScheme,720+sarDataBytes*i)\n",
    "    signal = parsedRecord.fields[parsedRecord.key[\"signalData\"]]\n",
    "    \n",
    "    #TODO  - is 15 or 16 better?? compute mean of signals?\n",
    "    #TODO  - DEAL WITH VALUES > 0x1f!!\n",
    "    signal = map(x->min(0x1f,x), signal)\n",
    "    \n",
    "    signal = Int8.(signal)-Int8.(15*ones(size(signal)))\n",
    "    I = signal[1:2:length(signal)]\n",
    "    Q = signal[2:2:length(signal)]\n",
    "\n",
    "    parsedRecord.key[\"I\"] = length(parsedRecord.fields)+1;\n",
    "    parsedRecord.key[\"Q\"] = length(parsedRecord.fields)+2;\n",
    "    push!(parsedRecord.fields, I)\n",
    "    push!(parsedRecord.fields, Q)\n",
    "    \n",
    "    parsedRecord.fields[parsedRecord.key[\"signalData\"]] = []  #remove original signalData from record!\n",
    "    \n",
    "    push!(signalRecords,parsedRecord)\n",
    "    if(i%10000==0)\n",
    "        print(i)\n",
    "        print(\"   \")\n",
    "        print(Base.summarysize(parsedRecord))\n",
    "        print(\"B    \")\n",
    "        print(Base.summarysize(signalRecords)/1e6)\n",
    "        println(\" MB\")\n",
    "    end\n",
    "end\n",
    "print(Base.summarysize(signalRecords)/1e6)\n",
    "println(\" MB\")\n",
    "\n",
    "close(file)\n",
    "\n",
    "# save signalRecords for later use\n",
    "Serialization.serialize(open(\"Cape/$imagename-signal-records.ser\",\"w\"),signalRecords)\n",
    "signalRecords = [];  # free up the memory of the signalRecords object - it'll be read back in later"
   ]
  },
  {
   "cell_type": "markdown",
   "metadata": {
    "heading_collapsed": true
   },
   "source": [
    "## Chirp Finding\n",
    "This stage produces a chirp signal that will deconvolve the IQ samples stored in the L1.0 file read in above. Cannot be skipped!"
   ]
  },
  {
   "cell_type": "code",
   "execution_count": 5,
   "metadata": {
    "hidden": true
   },
   "outputs": [
    {
     "name": "stdout",
     "output_type": "stream",
     "text": [
      "Max IF freq: -1.400000004e7\n",
      "Ready"
     ]
    }
   ],
   "source": [
    "#process header\n",
    "file = open(\"Cape/LED.0__A\")\n",
    "rec = parseFile(file,datasetSummaryRecordScheme,720)\n",
    "#rec.fields[rec.key[\"PRF\"]]\n",
    "\n",
    "f = parse(Float64,split(rec.fields[rec.key[\"coeffs\"]])[1])\n",
    "fdot = -parse(Float64,split(rec.fields[rec.key[\"coeffs\"]])[2])\n",
    "sampleRate = parse(Float64,rec.fields[rec.key[\"samplingRate\"]])*1e6     #Hz\n",
    "pulseLength = parse(Float64,rec.fields[rec.key[\"pulseLength\"]])*1e-6   #s\n",
    "PRF = parse(Float64,rec.fields[rec.key[\"PRF\"]])/1000\n",
    "pulseSamples = Integer(floor(pulseLength*sampleRate))\n",
    "#pulseSamples = 400\n",
    "print(\"Max IF freq: \")\n",
    "println(fdot*pulseLength)\n",
    "\n",
    "Sif(t) = exp(pi*im*fdot*t^2)\n",
    "\n",
    "t = 1/sampleRate* (range(1, stop = pulseSamples) |> collect)\n",
    "\n",
    "t = t.-maximum(t)/2\n",
    "\n",
    "sig = Sif.(t)/sqrt(pulseSamples)\n",
    "\n",
    "rangeCells = 5000\n",
    "\n",
    "chirpI = vcat(real(sig),zeros(rangeCells))\n",
    "chirpQ = vcat(imag(sig),zeros(rangeCells))\n",
    "chirp = Complex{Float32}.(chirpI,chirpQ)\n",
    "\n",
    "chirpFFT = fft(chirp)\n",
    "\n",
    "print(\"Ready\")"
   ]
  },
  {
   "cell_type": "code",
   "execution_count": 6,
   "metadata": {
    "hidden": true
   },
   "outputs": [
    {
     "name": "stdout",
     "output_type": "stream",
     "text": [
      "Period: 1.6187092401545025 h\n",
      "Orbital Velocity: 7593 m/s\n"
     ]
    },
    {
     "data": {
      "text/plain": [
       "0.023499617188164356"
      ]
     },
     "execution_count": 6,
     "metadata": {},
     "output_type": "execute_result"
    }
   ],
   "source": [
    "R0 = 848665     #m  \n",
    "altitude = 628000 #m, nominal\n",
    "c = 3e8\n",
    "\n",
    "a = (6371+628)*1000.0  #m            #https://www.eorc.jaxa.jp/ALOS-2/en/about/overview.htm\n",
    "G = 6.67408e-11\n",
    "Me= 5.97219e24       #kg\n",
    "P = sqrt(4*pi^2/(G*Me)*a^3)\n",
    "print(\"Period: \")\n",
    "print(P/3600)\n",
    "println(\" h\")\n",
    "vorbital = 2pi*a/P            #These are terrible assumptions!!!!!!!\n",
    "vorbital = 7593\n",
    "println(\"Orbital Velocity: \",vorbital,\" m/s\")\n",
    "\n",
    "wavelength = parse(Float32,rec.fields[rec.key[  \"wavelength\" ]]) #m \n",
    "#antenna length\n",
    "La = 8.9 #m\n",
    "\n",
    "#beamwidth\n",
    "bw = 0.886*wavelength/La"
   ]
  },
  {
   "cell_type": "code",
   "execution_count": 7,
   "metadata": {
    "hidden": true
   },
   "outputs": [
    {
     "name": "stdout",
     "output_type": "stream",
     "text": [
      "42.26979895146822\n"
     ]
    },
    {
     "data": {
      "text/plain": [
       "13.522109586796189"
      ]
     },
     "execution_count": 7,
     "metadata": {},
     "output_type": "execute_result"
    }
   ],
   "source": [
    "nadirAngle = acos(altitude/R0)\n",
    "println(nadirAngle*180/pi)\n",
    "RD = 1/2*c*5000/16000000\n",
    "rangeCellLength = 1/5000 * (sqrt((R0+RD)^2-altitude^2)-sqrt(R0^2-altitude^2))"
   ]
  },
  {
   "cell_type": "markdown",
   "metadata": {},
   "source": [
    "## Image Forming\n",
    "This stage converts the `...-signal-records.ser` object produced above into an early-stage image. The output of these blocks is a range-compressed complex image in a `.rcc` file."
   ]
  },
  {
   "cell_type": "code",
   "execution_count": null,
   "metadata": {},
   "outputs": [],
   "source": [
    "showRaw = true;"
   ]
  },
  {
   "cell_type": "code",
   "execution_count": 46,
   "metadata": {},
   "outputs": [
    {
     "name": "stdout",
     "output_type": "stream",
     "text": [
      "Loaded signalRecords"
     ]
    }
   ],
   "source": [
    "# load serialized version of signalRecords if not loaded from file above\n",
    "signalRecords = Serialization.deserialize(open(\"Cape/$imagename-signal-records.ser\",\"r\"))\n",
    "print(\"Loaded signalRecords\")"
   ]
  },
  {
   "cell_type": "code",
   "execution_count": 47,
   "metadata": {
    "code_folding": []
   },
   "outputs": [
    {
     "name": "stdout",
     "output_type": "stream",
     "text": [
      "Done"
     ]
    }
   ],
   "source": [
    "#sub image formation:\n",
    "sampleNum = 5000 #how many samples of each echo to keep\n",
    "echoNum = 35000  #how many echos to keep\n",
    "echostart = 1\n",
    "\n",
    "smallSignals = zeros(Complex{Float16},sampleNum,echoNum)\n",
    "\n",
    "#This is soooooo much faster than hcatS!!!!\n",
    "#https://stackoverflow.com/questions/38308053/julia-how-to-fill-a-matrix-row-by-row-in-julia\n",
    "for i = echostart+1:echostart+echoNum\n",
    "    line = signalRecords[i]\n",
    "    I = Float16.(line.fields[line.key[\"I\"]])\n",
    "    Q = Float16.(line.fields[line.key[\"Q\"]])\n",
    "    \n",
    "    smallSignals[:,i-echostart] = Complex.(I[1:sampleNum],Q[1:sampleNum])\n",
    "end\n",
    "\n",
    "signalRecords = []  #free up signalRecords - now using smallSignals\n",
    "\n",
    "print(\"Done\")"
   ]
  },
  {
   "cell_type": "code",
   "execution_count": null,
   "metadata": {},
   "outputs": [],
   "source": [
    "# TODO: serialize smallSignals?\n",
    "#Serialization.serialize(open(\"/home/thatcher/Documents/12.421/smallSignalsBigger.ser\",\"w\"),smallSignals)"
   ]
  },
  {
   "cell_type": "code",
   "execution_count": 44,
   "metadata": {},
   "outputs": [
    {
     "ename": "LoadError",
     "evalue": "BoundsError: attempt to access (0,)\n  at index [2]",
     "output_type": "error",
     "traceback": [
      "BoundsError: attempt to access (0,)\n  at index [2]",
      "",
      "Stacktrace:",
      " [1] getindex(::Tuple, ::Int64) at ./tuple.jl:24",
      " [2] top-level scope at ./In[44]:9",
      " [3] include_string(::Function, ::Module, ::String, ::String) at ./loading.jl:1091"
     ]
    }
   ],
   "source": [
    "# create img, the raw complex radar image\n",
    "img = []\n",
    "v = []\n",
    "\n",
    "shape = size(smallSignals)\n",
    "img =  zeros(Float16,shape)\n",
    "pixelsPerStrip = shape[1]\n",
    "\n",
    "for i = 1:shape[2]\n",
    "    echo = vcat(zeros(Complex{Float16},pulseSamples),smallSignals[:,i])\n",
    "    mag = abs.(echo)\n",
    "    \n",
    "    img[:, shape[2]-i+1]  = mag[1:sampleNum]\n",
    "    if i%10000 == 1\n",
    "        println(i)\n",
    "    end\n",
    "end\n",
    "img = img'\n",
    "print(\"Done\")"
   ]
  },
  {
   "cell_type": "code",
   "execution_count": 38,
   "metadata": {},
   "outputs": [
    {
     "data": {
      "text/plain": [
       "Dict{String,Any} with 4 entries:\n",
       "  \"gui\"         => Dict{String,Any}(\"window\"=>GtkWindowLeaf(name=\"\", parent, wi…\n",
       "  \"roi\"         => Dict{String,Any}(\"redraw\"=>111: \"map(clim-mapped image, inpu…\n",
       "  \"annotations\" => 77: \"input-26\" = Dict{UInt64,Any}() Dict{UInt64,Any} \n",
       "  \"clim\"        => 76: \"CLim\" = CLim{Float16}(0.0, 22.62) CLim{Float16} "
      ]
     },
     "execution_count": 38,
     "metadata": {},
     "output_type": "execute_result"
    }
   ],
   "source": [
    "# show raw magnitude image\n",
    "v = view(img,1:40:shape[2],1:10:shape[1])\n",
    "imshow(v);"
   ]
  },
  {
   "cell_type": "code",
   "execution_count": 39,
   "metadata": {},
   "outputs": [
    {
     "data": {
      "text/plain": [
       "Any[]"
      ]
     },
     "execution_count": 39,
     "metadata": {},
     "output_type": "execute_result"
    }
   ],
   "source": [
    "v = []"
   ]
  },
  {
   "cell_type": "code",
   "execution_count": 49,
   "metadata": {},
   "outputs": [
    {
     "name": "stdout",
     "output_type": "stream",
     "text": [
      "1\n",
      "10001\n",
      "20001\n",
      "30001\n",
      "Done"
     ]
    }
   ],
   "source": [
    "shape = size(smallSignals)\n",
    "\n",
    "pixelsPerStrip = shape[1]+pulseSamples\n",
    "\n",
    "cimg = zeros(Complex{Float16},(shape[1]+pulseSamples,shape[2]))\n",
    "img = []\n",
    "\n",
    "for i = 1:shape[2]\n",
    "    echo = vcat(zeros(Complex{Float16},pulseSamples),smallSignals[:,i])\n",
    "    \n",
    "    ####### Range Compression\n",
    "    signalFFT = fft(Complex{Float32}.(echo))\n",
    "    \n",
    "    crossCorrelated = AbstractFFTs.ifft(conj.(chirpFFT).*signalFFT)\n",
    "    ####### End Range Compression\n",
    "    \n",
    "    cimg[:, i] = Complex{Float16}.(crossCorrelated)\n",
    "    if i%10000 == 1\n",
    "        println(i)\n",
    "    end\n",
    "end\n",
    "\n",
    "cimg= cimg'\n",
    "smallSignals = []  # drop small signals - using cimg now\n",
    "GC.gc()\n",
    "\n",
    "print(\"Done\")"
   ]
  },
  {
   "cell_type": "code",
   "execution_count": 51,
   "metadata": {},
   "outputs": [],
   "source": [
    "Serialization.serialize(open(\"$imagename.rcc\",\"w\"),cimg)\n",
    "cimg = [];\n",
    "GC.gc();"
   ]
  },
  {
   "cell_type": "markdown",
   "metadata": {},
   "source": [
    "## Loading Range Corrected Complex Image File\n",
    "Can start here if a range-corrected complex image is already available from IMG-HH.rcc or similar."
   ]
  },
  {
   "cell_type": "code",
   "execution_count": 57,
   "metadata": {},
   "outputs": [
    {
     "name": "stdout",
     "output_type": "stream",
     "text": [
      "Loaded"
     ]
    }
   ],
   "source": [
    "cimg = Serialization.deserialize(open(\"$imagename.rcc\",\"r\"))\n",
    "print(\"Loaded\")"
   ]
  },
  {
   "cell_type": "code",
   "execution_count": 53,
   "metadata": {},
   "outputs": [
    {
     "data": {
      "text/plain": [
       "Dict{String,Any} with 4 entries:\n",
       "  \"gui\"         => Dict{String,Any}(\"window\"=>GtkWindowLeaf(name=\"\", parent, wi…\n",
       "  \"roi\"         => Dict{String,Any}(\"redraw\"=>148: \"map(clim-mapped image, inpu…\n",
       "  \"annotations\" => 114: \"input-38\" = Dict{UInt64,Any}() Dict{UInt64,Any} \n",
       "  \"clim\"        => 113: \"CLim\" = CLim{Float16}(0.0, 47.1) CLim{Float16} "
      ]
     },
     "execution_count": 53,
     "metadata": {},
     "output_type": "execute_result"
    }
   ],
   "source": [
    "# show cross correlated image\n",
    "v = view(abs.(cimg),1:40:shape[2],1:10:shape[1])\n",
    "imshow(reverse(v,dims=1));"
   ]
  },
  {
   "cell_type": "code",
   "execution_count": 54,
   "metadata": {},
   "outputs": [
    {
     "data": {
      "text/plain": [
       "Any[]"
      ]
     },
     "execution_count": 54,
     "metadata": {},
     "output_type": "execute_result"
    }
   ],
   "source": [
    "v = []"
   ]
  },
  {
   "cell_type": "code",
   "execution_count": 55,
   "metadata": {},
   "outputs": [
    {
     "data": {
      "text/plain": [
       "Any[]"
      ]
     },
     "execution_count": 55,
     "metadata": {},
     "output_type": "execute_result"
    }
   ],
   "source": [
    "shiftedft = []\n",
    "azcomp = []\n",
    "azcompmag = []"
   ]
  },
  {
   "cell_type": "markdown",
   "metadata": {},
   "source": [
    "### Range Cell Migration Correction\n",
    "Going to using the Range Doppler Algorithm. Take range compressed data, fourier transform along each line of constant range, then interpolate by a azimuth-frequency-dependent amount to correct for range cell migration.\n",
    "\n",
    "Could image at this point, but probably won't look different. \n",
    "\n",
    "After that, do azimuth compression as usual. To be efficient, don't apply IFFT to RCM corrected data and instead use that direction in the azimuth convolutions.\n",
    "\n",
    "Range shift at each frequency is:\n",
    "$$\\Delta R(f_n) = \\frac{\\lambda^2 R_0 f_n^2}{8 V_r^2}$$\n",
    "Where $R_0$ is the distance of closest approach, $V_r$ is the effective radar velocity (Cummings and Wong pg. 235)\n"
   ]
  },
  {
   "cell_type": "code",
   "execution_count": 58,
   "metadata": {},
   "outputs": [
    {
     "name": "stdout",
     "output_type": "stream",
     "text": [
      "######"
     ]
    },
    {
     "data": {
      "text/plain": [
       "2"
      ]
     },
     "execution_count": 58,
     "metadata": {},
     "output_type": "execute_result"
    }
   ],
   "source": [
    "#rcmc = zeros(Complex{Float16},size(cimg))\n",
    "Vr = vorbital\n",
    "\n",
    "shiftedft = zeros(Complex{Float16},size(cimg))\n",
    "\n",
    "for i = 1:size(cimg)[2]\n",
    "    line = Complex{Float32}.(cimg[:,i])\n",
    "\n",
    "    ####### Fourier Transforming\n",
    "\n",
    "    lineFFT = fft(line)\n",
    "\n",
    "    shiftedft[:,i] = lineFFT\n",
    "    if i%1000 == 1\n",
    "        print(\"#\")\n",
    "    end\n",
    "end\n",
    "\n",
    "\n",
    "2"
   ]
  },
  {
   "cell_type": "code",
   "execution_count": 59,
   "metadata": {},
   "outputs": [
    {
     "name": "stdout",
     "output_type": "stream",
     "text": [
      "AB"
     ]
    },
    {
     "data": {
      "text/plain": [
       "Dict{String,Any} with 4 entries:\n",
       "  \"gui\"         => Dict{String,Any}(\"window\"=>GtkWindowLeaf(name=\"\", parent, wi…\n",
       "  \"roi\"         => Dict{String,Any}(\"redraw\"=>185: \"map(clim-mapped image, inpu…\n",
       "  \"annotations\" => 151: \"input-50\" = Dict{UInt64,Any}() Dict{UInt64,Any} \n",
       "  \"clim\"        => 150: \"CLim\" = CLim{Float16}(1.857, 3.805e4) CLim{Float16} "
      ]
     },
     "execution_count": 59,
     "metadata": {},
     "output_type": "execute_result"
    }
   ],
   "source": [
    "# show fourier transformed cimg if desired\n",
    "# with the correct contrast, the curves that will be corrected\n",
    "# by range cell migration should be visible\n",
    "shape = size(shiftedft)\n",
    "rccft = (abs.(view(shiftedft,\n",
    "                1:100:shape[1],\n",
    "                3600+54:1:3600+473)))\n",
    "#rccft = UInt8.(round.(min.(rccft,5000)*200/5000))\n",
    "print(\"A\")\n",
    "img = colorview(Gray,rccft)\n",
    "print(\"B\")\n",
    "imshow(rccft);\n",
    "#heatmap(img)"
   ]
  },
  {
   "cell_type": "code",
   "execution_count": 60,
   "metadata": {},
   "outputs": [
    {
     "name": "stdout",
     "output_type": "stream",
     "text": [
      "10000  4\n",
      "10000  4\n",
      "0  0\n"
     ]
    },
    {
     "data": {
      "text/plain": [
       "2"
      ]
     },
     "execution_count": 60,
     "metadata": {},
     "output_type": "execute_result"
    }
   ],
   "source": [
    "#now we want to shift each frequency in range space, so make each frequency bin a column for speed\n",
    "shiftedft = shiftedft'\n",
    "#rcmc = rcmc'\n",
    "shape = size(shiftedft)\n",
    "c = 3e8\n",
    "slantRes = 1/2*c/sampleRate\n",
    "\n",
    "for i = 1:shape[2]\n",
    "    n = i\n",
    "    #the \"highest frequencies\" are actually the negative frequencies aliased up!\n",
    "    if n>shape[2]/2\n",
    "        n = shape[2]-i\n",
    "    end\n",
    "    fn = (n-1)/shape[2]*PRF    #check this but pretty sure\n",
    "    \n",
    "    #range migration distance in meters\n",
    "    ΔR = wavelength^2*R0*fn^2/(8*Vr^2)\n",
    "    cellshift = Integer(round(ΔR/slantRes))\n",
    "    \n",
    "    #interpolation\n",
    "    #NEAREST NEIGHBOR - bad!\n",
    "    shiftedft[:,i] = vcat(shiftedft[cellshift+1:shape[1],i],zeros(Complex{Float64},cellshift))\n",
    "    \n",
    "    if n%10000==0\n",
    "        print(n)\n",
    "        print(\"  \")\n",
    "        println(cellshift)\n",
    "    end\n",
    "end\n",
    "shiftedft = shiftedft'\n",
    "#shifted = rcmc'\n",
    "2"
   ]
  },
  {
   "cell_type": "markdown",
   "metadata": {},
   "source": [
    "### Azimuth Compression!!\n",
    "need PRF, altitude, initial range, ground speed, wavelength\n",
    "$$R(s) = \\sqrt{R_0^2+s^2v^2} = R_0+\\dot{R}_0s+\\frac{1}{2}\\ddot{R}_0s^2$$\n",
    "$$C(s) = e^{i \\frac{4\\pi}{\\lambda} R(s)}$$ (4pi comes from: phase shift due to distance is 2pi, but you go there and back so phase shift is doubled)\n",
    "Sample $C(s)$ at $s=n/PRF$\n",
    "\n",
    "For zero doppler shift (kinda naive case but fine), $\\dot{R}_0 = 0$ and $\\ddot{R}_0 = \\frac{v^2}{R_0}$\n",
    "\n",
    "**Note:** this all only works for the first pixels!! Need to correct $R_0$ as we move out from the ground track."
   ]
  },
  {
   "cell_type": "code",
   "execution_count": 61,
   "metadata": {},
   "outputs": [
    {
     "name": "stdout",
     "output_type": "stream",
     "text": [
      "Ready"
     ]
    }
   ],
   "source": [
    "theta(s,R) = atan(vorbital*s/R)\n",
    "\n",
    "#one way beam pattern:\n",
    "p(a) = sinc(a*La/wavelength)\n",
    "w(s,R) = p(theta(s,R))^2\n",
    "\n",
    "Rc = R0+10000\n",
    "\n",
    "R(s) = Rc - 1/2*vorbital^2/Rc*s^2\n",
    "C(s) = exp(-4pi*im/wavelength*R(s))*w(s,Rc)\n",
    "\n",
    "width = 200\n",
    "s = 1/PRF*(range(-width, stop = width) |> collect)\n",
    "\n",
    "sig = C.(s)/sqrt(width)\n",
    "\n",
    "azimuthI = vcat(real(sig),zeros(size(cimg)[1]-length(sig)))\n",
    "azimuthQ = vcat(imag(sig),zeros(size(cimg)[1]-length(sig)))\n",
    "azimuth = Complex{Float32}.(azimuthI,azimuthQ)\n",
    "\n",
    "complexAzimuthFFT = fft(azimuth)\n",
    "\n",
    "print(\"Ready\")"
   ]
  },
  {
   "cell_type": "code",
   "execution_count": 62,
   "metadata": {},
   "outputs": [
    {
     "name": "stdout",
     "output_type": "stream",
     "text": [
      "######"
     ]
    },
    {
     "data": {
      "text/plain": [
       "2"
      ]
     },
     "execution_count": 62,
     "metadata": {},
     "output_type": "execute_result"
    }
   ],
   "source": [
    "azcomp = zeros(Float16,size(cimg))\n",
    "for i = 1:size(cimg)[2]\n",
    "    line = Complex{Float32}.(cimg[:,i])\n",
    "    \n",
    "    ####### Azimuth Compression\n",
    "    \n",
    "    #lineFFT = fft(line)\n",
    "    lineFFT = shiftedft[:,i]\n",
    "    #lineFFT = fft(Complex{Float32}.(cimg[:,i]))\n",
    "    crossCorrelated = AbstractFFTs.ifft(conj.(complexAzimuthFFT).*lineFFT)\n",
    "    \n",
    "    ####### End Azimuth Compression\n",
    "    \n",
    "    \n",
    "    #complex = Complex.(I,Q)\n",
    "    result = abs.( crossCorrelated )\n",
    "    azcomp[:,i] = result\n",
    "    if i%1000 == 1\n",
    "        print(\"#\")\n",
    "    end\n",
    "end\n",
    "azcomp = reverse(azcomp,dims=1)\n",
    "2"
   ]
  },
  {
   "cell_type": "code",
   "execution_count": 63,
   "metadata": {},
   "outputs": [
    {
     "data": {
      "text/plain": [
       "380240000"
      ]
     },
     "execution_count": 63,
     "metadata": {},
     "output_type": "execute_result"
    }
   ],
   "source": [
    "# save range and azimuth compressed file as a \"single-look complex\"\n",
    "Serialization.serialize(open(\"$imagename.slc\",\"w\"),azcomp)"
   ]
  },
  {
   "cell_type": "markdown",
   "metadata": {},
   "source": [
    "## Images"
   ]
  },
  {
   "cell_type": "code",
   "execution_count": 71,
   "metadata": {},
   "outputs": [
    {
     "name": "stdout",
     "output_type": "stream",
     "text": [
      "Azimuth:     3.531 m\n",
      "Range Cell: 13.522 m\n",
      "Aspect Ratio: 3.8\n"
     ]
    }
   ],
   "source": [
    "# compare the width and height of a pixel (cell)\n",
    "# to get an approximate scaling for image formation\n",
    "println(\"Azimuth:     \", round(vorbital/PRF, digits=3), \" m\")\n",
    "println(\"Range Cell: \",round(rangeCellLength, digits=3), \" m\")\n",
    "println(\"Aspect Ratio: \",round(rangeCellLength/(vorbital/PRF),digits=1))"
   ]
  },
  {
   "cell_type": "code",
   "execution_count": 72,
   "metadata": {
    "code_folding": []
   },
   "outputs": [
    {
     "name": "stdout",
     "output_type": "stream",
     "text": [
      "Ready"
     ]
    }
   ],
   "source": [
    "#magnitude image formation\n",
    "scaling = 4\n",
    "shape = size(azcomp)\n",
    "#raw = abs.(view(transpose(img),\n",
    "#                1:scaling:shape[1],\n",
    "#                1:scaling:shape[2]))\n",
    "#=\n",
    "rangecompmag = (abs.(view(cimg,\n",
    "                1:scaling:shape[1],\n",
    "                1:scaling:shape[2])))\n",
    "=#\n",
    "#rcmcftmag = (abs.(view(rcmc,\n",
    "#                1:scaling:5000,\n",
    "#                1:scaling:8000)))\n",
    "azcompmag = (abs.(view(azcomp,\n",
    "                #1:Integer(round(scaling*rangeCellLength/azimuthCellLength)):shape[1],\n",
    "                1:Integer(round(scaling*     4     )):shape[1],\n",
    "                1:scaling:shape[2])))\n",
    "#=\n",
    "azcompmag = min.(60,abs.(view(azcomp,\n",
    "                7000:scaling*4:11000,\n",
    "                1750:scaling:2750)))\n",
    "=#\n",
    "#reduced = zeros(pixelsPerStrip)\n",
    "#for c=1:(length(reduced)-2)                 #TODO why is -2 here??\n",
    "#    reduced[c] = sum(mag[c*pixelStep:(c+1)*pixelStep])/pixelStep\n",
    "#end\n",
    "print(\"Ready\")"
   ]
  },
  {
   "cell_type": "code",
   "execution_count": null,
   "metadata": {
    "scrolled": true
   },
   "outputs": [],
   "source": [
    "imshow(log.(azcompmag))"
   ]
  },
  {
   "cell_type": "code",
   "execution_count": 73,
   "metadata": {},
   "outputs": [
    {
     "data": {
      "text/plain": [
       "Dict{String,Any} with 4 entries:\n",
       "  \"gui\"         => Dict{String,Any}(\"window\"=>GtkWindowLeaf(name=\"\", parent, wi…\n",
       "  \"roi\"         => Dict{String,Any}(\"redraw\"=>222: \"map(clim-mapped image, inpu…\n",
       "  \"annotations\" => 188: \"input-68\" = Dict{UInt64,Any}() Dict{UInt64,Any} \n",
       "  \"clim\"        => 187: \"CLim\" = CLim{Float16}(4.214e-5, 506.0) CLim{Float16} "
      ]
     },
     "execution_count": 73,
     "metadata": {},
     "output_type": "execute_result"
    }
   ],
   "source": [
    "imshow(azcompmag)"
   ]
  },
  {
   "cell_type": "code",
   "execution_count": null,
   "metadata": {},
   "outputs": [],
   "source": [
    "cimg = []\n",
    "shiftedft = []"
   ]
  },
  {
   "cell_type": "markdown",
   "metadata": {},
   "source": [
    "## Raw Magnitude Image Notes:\n",
    "There are a few interesting features in the echo magnitude images: one is very long saturated strips that fill out most of an entire signal data record. This might have to be removed.... not sure why they are present at all.\n",
    "\n",
    "The other feature is short dashes that are ~67 pixels long in the vertical direction. I suspect the pulse length is 67 sampling intervals long."
   ]
  },
  {
   "cell_type": "code",
   "execution_count": 74,
   "metadata": {},
   "outputs": [
    {
     "data": {
      "text/latex": [
       "\\begin{tabular}\n",
       "{l | r | l}\n",
       "name & size & summary \\\\\n",
       "\\hline\n",
       "Base &  & Module \\\\\n",
       "C & 0 bytes & typeof(C) \\\\\n",
       "Core &  & Module \\\\\n",
       "G & 8 bytes & Float64 \\\\\n",
       "La & 8 bytes & Float64 \\\\\n",
       "Main &  & Module \\\\\n",
       "Me & 8 bytes & Float64 \\\\\n",
       "P & 8 bytes & Float64 \\\\\n",
       "PRF & 8 bytes & Float64 \\\\\n",
       "R & 0 bytes & typeof(R) \\\\\n",
       "R0 & 8 bytes & Int64 \\\\\n",
       "RD & 8 bytes & Float64 \\\\\n",
       "Rc & 8 bytes & Int64 \\\\\n",
       "Sif & 0 bytes & typeof(Sif) \\\\\n",
       "Vr & 8 bytes & Int64 \\\\\n",
       "a & 8 bytes & Float64 \\\\\n",
       "altitude & 8 bytes & Int64 \\\\\n",
       "azcomp & 362.625 MiB & 35000×5432 Array\\{Float16,2\\} \\\\\n",
       "azcompmag & 5.667 MiB & 2188×1358 Array\\{Float16,2\\} \\\\\n",
       "azimuth & 273.477 KiB & 35000-element Array\\{Complex\\{Float32\\},1\\} \\\\\n",
       "azimuthCellLength & 8 bytes & Float64 \\\\\n",
       "azimuthI & 273.477 KiB & 35000-element Array\\{Float64,1\\} \\\\\n",
       "azimuthQ & 273.477 KiB & 35000-element Array\\{Float64,1\\} \\\\\n",
       "bw & 8 bytes & Float64 \\\\\n",
       "bytesToArray & 0 bytes & typeof(bytesToArray) \\\\\n",
       "bytesToString & 0 bytes & typeof(bytesToString) \\\\\n",
       "bytesToUInt16 & 0 bytes & typeof(bytesToUInt16) \\\\\n",
       "bytesToUInt32 & 0 bytes & typeof(bytesToUInt32) \\\\\n",
       "c & 8 bytes & Float64 \\\\\n",
       "chirp & 42.477 KiB & 5432-element Array\\{Complex\\{Float32\\},1\\} \\\\\n",
       "chirpFFT & 42.477 KiB & 5432-element Array\\{Complex\\{Float32\\},1\\} \\\\\n",
       "chirpI & 42.477 KiB & 5432-element Array\\{Float64,1\\} \\\\\n",
       "chirpQ & 42.477 KiB & 5432-element Array\\{Float64,1\\} \\\\\n",
       "cimg & 725.250 MiB & 35000×5432 LinearAlgebra.Adjoint\\{Complex\\{Float16\\},Array\\{Complex\\{Float16\\},2\\}\\} \\\\\n",
       "complexAzimuthFFT & 273.477 KiB & 35000-element Array\\{Complex\\{Float32\\},1\\} \\\\\n",
       "datasetSummaryRecordScheme & 208 bytes & 7-element Array\\{Tuple\\{String,Tuple\\{Int64,Int64\\},typeof(bytesToString)\\},1\\} \\\\\n",
       "echoNum & 8 bytes & Int64 \\\\\n",
       "echostart & 8 bytes & Int64 \\\\\n",
       "f & 8 bytes & Float64 \\\\\n",
       "fdot & 8 bytes & Float64 \\\\\n",
       "file & 351 bytes & IOStream \\\\\n",
       "imageDescriptor & 930 bytes & NamedTuple\\{(:key, :fields),Tuple\\{Dict\\{Any,Any\\},Array\\{Any,1\\}\\}\\} \\\\\n",
       "imageFileDescrictorScheme & 472 bytes & 8-element Array\\{Tuple\\{String,Tuple\\{Int64,Int64\\},Function\\},1\\} \\\\\n",
       "imagename & 14 bytes & String \\\\\n",
       "img & 287.164 KiB & 350×420 reinterpret(Gray\\{Float16\\}, ::Array\\{Float16,2\\}) \\\\\n",
       "nadirAngle & 8 bytes & Float64 \\\\\n",
       "numSignals & 8 bytes & Int64 \\\\\n",
       "objs & 448 bytes & 51-element Array\\{Symbol,1\\} \\\\\n",
       "p & 0 bytes & typeof(p) \\\\\n",
       "parseFile & 0 bytes & typeof(parseFile) \\\\\n",
       "pixelsPerStrip & 8 bytes & Int64 \\\\\n",
       "pulseLength & 8 bytes & Float64 \\\\\n",
       "pulseSamples & 8 bytes & Int64 \\\\\n",
       "rangeCellLength & 8 bytes & Float64 \\\\\n",
       "rangeCells & 8 bytes & Int64 \\\\\n",
       "rccft & 287.148 KiB & 350×420 Array\\{Float16,2\\} \\\\\n",
       "rec & 1.245 KiB & NamedTuple\\{(:key, :fields),Tuple\\{Dict\\{Any,Any\\},Array\\{Any,1\\}\\}\\} \\\\\n",
       "s & 3.172 KiB & 401-element Array\\{Float64,1\\} \\\\\n",
       "sampleNum & 8 bytes & Int64 \\\\\n",
       "sampleRate & 8 bytes & Float64 \\\\\n",
       "sarDataBytes & 8 bytes & Int64 \\\\\n",
       "scaling & 8 bytes & Int64 \\\\\n",
       "shape & 16 bytes & (35000, 5432) \\\\\n",
       "shiftedft & 725.250 MiB & 35000×5432 Array\\{Complex\\{Float16\\},2\\} \\\\\n",
       "sig & 6.305 KiB & 401-element Array\\{Complex\\{Float64\\},1\\} \\\\\n",
       "signalDataRecordScheme & 824 bytes & 14-element Array\\{Tuple\\{String,Tuple\\{Int64,Int64\\},Function\\},1\\} \\\\\n",
       "signalRecords & 40 bytes & 0-element Array\\{Any,1\\} \\\\\n",
       "slantRes & 8 bytes & Float64 \\\\\n",
       "smallSignals & 40 bytes & 0-element Array\\{Any,1\\} \\\\\n",
       "t & 3.414 KiB & 432-element Array\\{Float64,1\\} \\\\\n",
       "theta & 0 bytes & typeof(theta) \\\\\n",
       "v & 40 bytes & 0-element Array\\{Any,1\\} \\\\\n",
       "vorbital & 8 bytes & Int64 \\\\\n",
       "w & 0 bytes & typeof(w) \\\\\n",
       "wavelength & 4 bytes & Float32 \\\\\n",
       "width & 8 bytes & Int64 \\\\\n",
       "\\end{tabular}\n"
      ],
      "text/markdown": [
       "| name                       |        size | summary                                                                      |\n",
       "|:-------------------------- | -----------:|:---------------------------------------------------------------------------- |\n",
       "| Base                       |             | Module                                                                       |\n",
       "| C                          |     0 bytes | typeof(C)                                                                    |\n",
       "| Core                       |             | Module                                                                       |\n",
       "| G                          |     8 bytes | Float64                                                                      |\n",
       "| La                         |     8 bytes | Float64                                                                      |\n",
       "| Main                       |             | Module                                                                       |\n",
       "| Me                         |     8 bytes | Float64                                                                      |\n",
       "| P                          |     8 bytes | Float64                                                                      |\n",
       "| PRF                        |     8 bytes | Float64                                                                      |\n",
       "| R                          |     0 bytes | typeof(R)                                                                    |\n",
       "| R0                         |     8 bytes | Int64                                                                        |\n",
       "| RD                         |     8 bytes | Float64                                                                      |\n",
       "| Rc                         |     8 bytes | Int64                                                                        |\n",
       "| Sif                        |     0 bytes | typeof(Sif)                                                                  |\n",
       "| Vr                         |     8 bytes | Int64                                                                        |\n",
       "| a                          |     8 bytes | Float64                                                                      |\n",
       "| altitude                   |     8 bytes | Int64                                                                        |\n",
       "| azcomp                     | 362.625 MiB | 35000×5432 Array{Float16,2}                                                  |\n",
       "| azcompmag                  |   5.667 MiB | 2188×1358 Array{Float16,2}                                                   |\n",
       "| azimuth                    | 273.477 KiB | 35000-element Array{Complex{Float32},1}                                      |\n",
       "| azimuthCellLength          |     8 bytes | Float64                                                                      |\n",
       "| azimuthI                   | 273.477 KiB | 35000-element Array{Float64,1}                                               |\n",
       "| azimuthQ                   | 273.477 KiB | 35000-element Array{Float64,1}                                               |\n",
       "| bw                         |     8 bytes | Float64                                                                      |\n",
       "| bytesToArray               |     0 bytes | typeof(bytesToArray)                                                         |\n",
       "| bytesToString              |     0 bytes | typeof(bytesToString)                                                        |\n",
       "| bytesToUInt16              |     0 bytes | typeof(bytesToUInt16)                                                        |\n",
       "| bytesToUInt32              |     0 bytes | typeof(bytesToUInt32)                                                        |\n",
       "| c                          |     8 bytes | Float64                                                                      |\n",
       "| chirp                      |  42.477 KiB | 5432-element Array{Complex{Float32},1}                                       |\n",
       "| chirpFFT                   |  42.477 KiB | 5432-element Array{Complex{Float32},1}                                       |\n",
       "| chirpI                     |  42.477 KiB | 5432-element Array{Float64,1}                                                |\n",
       "| chirpQ                     |  42.477 KiB | 5432-element Array{Float64,1}                                                |\n",
       "| cimg                       | 725.250 MiB | 35000×5432 LinearAlgebra.Adjoint{Complex{Float16},Array{Complex{Float16},2}} |\n",
       "| complexAzimuthFFT          | 273.477 KiB | 35000-element Array{Complex{Float32},1}                                      |\n",
       "| datasetSummaryRecordScheme |   208 bytes | 7-element Array{Tuple{String,Tuple{Int64,Int64},typeof(bytesToString)},1}    |\n",
       "| echoNum                    |     8 bytes | Int64                                                                        |\n",
       "| echostart                  |     8 bytes | Int64                                                                        |\n",
       "| f                          |     8 bytes | Float64                                                                      |\n",
       "| fdot                       |     8 bytes | Float64                                                                      |\n",
       "| file                       |   351 bytes | IOStream                                                                     |\n",
       "| imageDescriptor            |   930 bytes | NamedTuple{(:key, :fields),Tuple{Dict{Any,Any},Array{Any,1}}}                |\n",
       "| imageFileDescrictorScheme  |   472 bytes | 8-element Array{Tuple{String,Tuple{Int64,Int64},Function},1}                 |\n",
       "| imagename                  |    14 bytes | String                                                                       |\n",
       "| img                        | 287.164 KiB | 350×420 reinterpret(Gray{Float16}, ::Array{Float16,2})                       |\n",
       "| nadirAngle                 |     8 bytes | Float64                                                                      |\n",
       "| numSignals                 |     8 bytes | Int64                                                                        |\n",
       "| objs                       |   448 bytes | 51-element Array{Symbol,1}                                                   |\n",
       "| p                          |     0 bytes | typeof(p)                                                                    |\n",
       "| parseFile                  |     0 bytes | typeof(parseFile)                                                            |\n",
       "| pixelsPerStrip             |     8 bytes | Int64                                                                        |\n",
       "| pulseLength                |     8 bytes | Float64                                                                      |\n",
       "| pulseSamples               |     8 bytes | Int64                                                                        |\n",
       "| rangeCellLength            |     8 bytes | Float64                                                                      |\n",
       "| rangeCells                 |     8 bytes | Int64                                                                        |\n",
       "| rccft                      | 287.148 KiB | 350×420 Array{Float16,2}                                                     |\n",
       "| rec                        |   1.245 KiB | NamedTuple{(:key, :fields),Tuple{Dict{Any,Any},Array{Any,1}}}                |\n",
       "| s                          |   3.172 KiB | 401-element Array{Float64,1}                                                 |\n",
       "| sampleNum                  |     8 bytes | Int64                                                                        |\n",
       "| sampleRate                 |     8 bytes | Float64                                                                      |\n",
       "| sarDataBytes               |     8 bytes | Int64                                                                        |\n",
       "| scaling                    |     8 bytes | Int64                                                                        |\n",
       "| shape                      |    16 bytes | (35000, 5432)                                                                |\n",
       "| shiftedft                  | 725.250 MiB | 35000×5432 Array{Complex{Float16},2}                                         |\n",
       "| sig                        |   6.305 KiB | 401-element Array{Complex{Float64},1}                                        |\n",
       "| signalDataRecordScheme     |   824 bytes | 14-element Array{Tuple{String,Tuple{Int64,Int64},Function},1}                |\n",
       "| signalRecords              |    40 bytes | 0-element Array{Any,1}                                                       |\n",
       "| slantRes                   |     8 bytes | Float64                                                                      |\n",
       "| smallSignals               |    40 bytes | 0-element Array{Any,1}                                                       |\n",
       "| t                          |   3.414 KiB | 432-element Array{Float64,1}                                                 |\n",
       "| theta                      |     0 bytes | typeof(theta)                                                                |\n",
       "| v                          |    40 bytes | 0-element Array{Any,1}                                                       |\n",
       "| vorbital                   |     8 bytes | Int64                                                                        |\n",
       "| w                          |     0 bytes | typeof(w)                                                                    |\n",
       "| wavelength                 |     4 bytes | Float32                                                                      |\n",
       "| width                      |     8 bytes | Int64                                                                        |\n"
      ],
      "text/plain": [
       "  name                              size summary                                                                     \n",
       "  –––––––––––––––––––––––––– ––––––––––– ––––––––––––––––––––––––––––––––––––––––––––––––––––––––––––––––––––––––––––\n",
       "  Base                                   Module                                                                      \n",
       "  C                              0 bytes typeof(C)                                                                   \n",
       "  Core                                   Module                                                                      \n",
       "  G                              8 bytes Float64                                                                     \n",
       "  La                             8 bytes Float64                                                                     \n",
       "  Main                                   Module                                                                      \n",
       "  Me                             8 bytes Float64                                                                     \n",
       "  P                              8 bytes Float64                                                                     \n",
       "  PRF                            8 bytes Float64                                                                     \n",
       "  R                              0 bytes typeof(R)                                                                   \n",
       "  R0                             8 bytes Int64                                                                       \n",
       "  RD                             8 bytes Float64                                                                     \n",
       "  Rc                             8 bytes Int64                                                                       \n",
       "  Sif                            0 bytes typeof(Sif)                                                                 \n",
       "  Vr                             8 bytes Int64                                                                       \n",
       "  a                              8 bytes Float64                                                                     \n",
       "  altitude                       8 bytes Int64                                                                       \n",
       "  azcomp                     362.625 MiB 35000×5432 Array{Float16,2}                                                 \n",
       "  azcompmag                    5.667 MiB 2188×1358 Array{Float16,2}                                                  \n",
       "  azimuth                    273.477 KiB 35000-element Array{Complex{Float32},1}                                     \n",
       "  azimuthCellLength              8 bytes Float64                                                                     \n",
       "  azimuthI                   273.477 KiB 35000-element Array{Float64,1}                                              \n",
       "  azimuthQ                   273.477 KiB 35000-element Array{Float64,1}                                              \n",
       "  bw                             8 bytes Float64                                                                     \n",
       "  bytesToArray                   0 bytes typeof(bytesToArray)                                                        \n",
       "  bytesToString                  0 bytes typeof(bytesToString)                                                       \n",
       "  bytesToUInt16                  0 bytes typeof(bytesToUInt16)                                                       \n",
       "  bytesToUInt32                  0 bytes typeof(bytesToUInt32)                                                       \n",
       "  c                              8 bytes Float64                                                                     \n",
       "  chirp                       42.477 KiB 5432-element Array{Complex{Float32},1}                                      \n",
       "  chirpFFT                    42.477 KiB 5432-element Array{Complex{Float32},1}                                      \n",
       "  chirpI                      42.477 KiB 5432-element Array{Float64,1}                                               \n",
       "  chirpQ                      42.477 KiB 5432-element Array{Float64,1}                                               \n",
       "  cimg                       725.250 MiB 35000×5432 LinearAlgebra.Adjoint{Complex{Float16},Array{Complex{Float16},2}}\n",
       "  complexAzimuthFFT          273.477 KiB 35000-element Array{Complex{Float32},1}                                     \n",
       "  datasetSummaryRecordScheme   208 bytes 7-element Array{Tuple{String,Tuple{Int64,Int64},typeof(bytesToString)},1}   \n",
       "  echoNum                        8 bytes Int64                                                                       \n",
       "  echostart                      8 bytes Int64                                                                       \n",
       "  f                              8 bytes Float64                                                                     \n",
       "  fdot                           8 bytes Float64                                                                     \n",
       "  file                         351 bytes IOStream                                                                    \n",
       "  imageDescriptor              930 bytes NamedTuple{(:key, :fields),Tuple{Dict{Any,Any},Array{Any,1}}}               \n",
       "  imageFileDescrictorScheme    472 bytes 8-element Array{Tuple{String,Tuple{Int64,Int64},Function},1}                \n",
       "  imagename                     14 bytes String                                                                      \n",
       "  img                        287.164 KiB 350×420 reinterpret(Gray{Float16}, ::Array{Float16,2})                      \n",
       "  nadirAngle                     8 bytes Float64                                                                     \n",
       "  numSignals                     8 bytes Int64                                                                       \n",
       "  objs                         448 bytes 51-element Array{Symbol,1}                                                  \n",
       "  p                              0 bytes typeof(p)                                                                   \n",
       "  parseFile                      0 bytes typeof(parseFile)                                                           \n",
       "  pixelsPerStrip                 8 bytes Int64                                                                       \n",
       "  pulseLength                    8 bytes Float64                                                                     \n",
       "  pulseSamples                   8 bytes Int64                                                                       \n",
       "  rangeCellLength                8 bytes Float64                                                                     \n",
       "  rangeCells                     8 bytes Int64                                                                       \n",
       "  rccft                      287.148 KiB 350×420 Array{Float16,2}                                                    \n",
       "  rec                          1.245 KiB NamedTuple{(:key, :fields),Tuple{Dict{Any,Any},Array{Any,1}}}               \n",
       "  s                            3.172 KiB 401-element Array{Float64,1}                                                \n",
       "  sampleNum                      8 bytes Int64                                                                       \n",
       "  sampleRate                     8 bytes Float64                                                                     \n",
       "  sarDataBytes                   8 bytes Int64                                                                       \n",
       "  scaling                        8 bytes Int64                                                                       \n",
       "  shape                         16 bytes (35000, 5432)                                                               \n",
       "  shiftedft                  725.250 MiB 35000×5432 Array{Complex{Float16},2}                                        \n",
       "  sig                          6.305 KiB 401-element Array{Complex{Float64},1}                                       \n",
       "  signalDataRecordScheme       824 bytes 14-element Array{Tuple{String,Tuple{Int64,Int64},Function},1}               \n",
       "  signalRecords                 40 bytes 0-element Array{Any,1}                                                      \n",
       "  slantRes                       8 bytes Float64                                                                     \n",
       "  smallSignals                  40 bytes 0-element Array{Any,1}                                                      \n",
       "  t                            3.414 KiB 432-element Array{Float64,1}                                                \n",
       "  theta                          0 bytes typeof(theta)                                                               \n",
       "  v                             40 bytes 0-element Array{Any,1}                                                      \n",
       "  vorbital                       8 bytes Int64                                                                       \n",
       "  w                              0 bytes typeof(w)                                                                   \n",
       "  wavelength                     4 bytes Float32                                                                     \n",
       "  width                          8 bytes Int64                                                                       "
      ]
     },
     "execution_count": 74,
     "metadata": {},
     "output_type": "execute_result"
    }
   ],
   "source": [
    "varinfo()"
   ]
  },
  {
   "cell_type": "code",
   "execution_count": null,
   "metadata": {},
   "outputs": [],
   "source": []
  }
 ],
 "metadata": {
  "@webio": {
   "lastCommId": null,
   "lastKernelId": null
  },
  "kernelspec": {
   "display_name": "Julia 1.5.1",
   "language": "julia",
   "name": "julia-1.5"
  },
  "language_info": {
   "file_extension": ".jl",
   "mimetype": "application/julia",
   "name": "julia",
   "version": "1.5.1"
  }
 },
 "nbformat": 4,
 "nbformat_minor": 2
}
