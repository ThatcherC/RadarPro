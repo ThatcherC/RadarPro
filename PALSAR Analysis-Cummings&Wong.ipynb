{
 "cells": [
  {
   "cell_type": "code",
   "execution_count": null,
   "metadata": {},
   "outputs": [],
   "source": [
    "using Plots\n",
    "using ImageView\n",
    "using FFTW\n",
    "using Serialization"
   ]
  },
  {
   "cell_type": "markdown",
   "metadata": {},
   "source": [
    "## Schema"
   ]
  },
  {
   "cell_type": "code",
   "execution_count": null,
   "metadata": {
    "code_folding": [
     25
    ]
   },
   "outputs": [],
   "source": [
    "function bytesToString(file, start, stop)\n",
    "    len = stop-start+1\n",
    "    seek(file,start-1)\n",
    "    String(read(file,len))\n",
    "end\n",
    "\n",
    "function bytesToUInt32(file, start, stop)\n",
    "    #TODO check if range matches size\n",
    "    seek(file, start-1)\n",
    "    Int32(ntoh(read(file,UInt32)))\n",
    "end\n",
    "\n",
    "function bytesToUInt16(file, start, stop)\n",
    "    #TODO check if range matches size\n",
    "    seek(file, start-1)\n",
    "    Int16(ntoh(read(file,UInt16)))\n",
    "end\n",
    "\n",
    "function bytesToArray(file, start, stop)\n",
    "    len = stop-start+1\n",
    "    seek(file, start-1)\n",
    "    read(file,len)\n",
    "end\n",
    "\n",
    "#Image File Descriptor\n",
    "imageFileDescrictorScheme = [    \n",
    "        (\"length\", (9, 12), bytesToUInt32),\n",
    "        (\"numSignals\", (181, 186), bytesToString),\n",
    "        (\"sarDataBytes\", (187, 192), bytesToString),\n",
    "        (\"bitsPerSample\", (217, 220), bytesToString),\n",
    "        (\"samplesPerPixel\", (221, 224), bytesToString), #could be 1 or 2 (IQ or A)\n",
    "        #245-272 - borders and interleaving\n",
    "        (\"physicalRecordsPerLine\", (273, 274), bytesToString),\n",
    "        #281-400 - unexplored\n",
    "        (\"sarDataFormat\", (401, 428), bytesToString),\n",
    "        (\"sarDataFormatTypeCode\", (429,432), bytesToString)\n",
    "        \n",
    "        ]\n",
    "\n",
    "signalDataRecordScheme = [\n",
    "        (\"recordSequenceNumber\", (1,4), bytesToUInt32),\n",
    "        (\"lengthOfRecord\", (9,12), bytesToUInt32),\n",
    "        (\"sarImageDatalineNumber\", (13, 16), bytesToUInt32),\n",
    "        (\"pixelCount\", (25, 28), bytesToUInt32),\n",
    "        #33-56 - instrument settings\n",
    "        #57-84 - chirp characteristics\n",
    "        (\"PRF (mHz)\", (57,60), bytesToUInt32),\n",
    "        (\"Chirp type\", (67,68), bytesToUInt16),    #0 for linear\n",
    "        \n",
    "        #93-388 - platform info - important!!!\n",
    "        (\"Valid\", (97,100),bytesToUInt32),\n",
    "        (\"Electronic Squint 1\",(101,104),bytesToUInt32),\n",
    "        (\"Electronic Squint 2\",(109,112),bytesToUInt32),\n",
    "        (\"Mechanical Squint\",(113,116),bytesToUInt32),\n",
    "        (\"FirstSampleRange (m)\",(117,120),bytesToUInt32),\n",
    "        (\"Platform Altitude (m)\",(141,144),bytesToUInt32),\n",
    "        (\"Platform Ground Speed (cm/s)\",(145,148),bytesToUInt32),\n",
    "        (\"signalData\", (413, 22110), bytesToArray)\n",
    "        ]\n",
    "\n",
    "datasetSummaryRecordScheme = [\n",
    "    (\"wavelength\", (501,516), bytesToString),\n",
    "    (\"chirpType\", (519,534), bytesToString),\n",
    "    (\"coeffs\",(534,694),bytesToString),\n",
    "    (\"samplingRate\",(711,726), bytesToString),\n",
    "    (\"pulseLength\",(743,758),bytesToString),      #us\n",
    "    (\"PRF\", (935,950), bytesToString),            #mHz\n",
    "    (\"doppler\", (1415,1654), bytesToString)\n",
    "]\n",
    "\n",
    "function parseFile(file,scheme,offset=0)\n",
    "    keyMap = Dict([])\n",
    "    for i=1:length(scheme)\n",
    "        keyMap[scheme[i][1]] = i  #make dictionary mapping field names to indices\n",
    "    end\n",
    "    results = []\n",
    "    for (name, (start, stop), f) in scheme\n",
    "        len  = stop-start+1\n",
    "        push!(results, f(file,start+offset,stop+offset))\n",
    "    end\n",
    "    return (key=keyMap, fields=results)\n",
    "end"
   ]
  },
  {
   "cell_type": "markdown",
   "metadata": {},
   "source": [
    "# FFTs"
   ]
  },
  {
   "cell_type": "code",
   "execution_count": null,
   "metadata": {
    "scrolled": true
   },
   "outputs": [],
   "source": [
    "#https://dsp.stackexchange.com/a/38546\n",
    "function complexFFT(I,Q)\n",
    "    Ifreq = FFTW.fft(I)\n",
    "    Qfreq = FFTW.fft(Q)\n",
    "    \n",
    "    resultI = real(Ifreq)-imag(Qfreq)\n",
    "    resultQ = real(Qfreq)+imag(Ifreq)\n",
    "    resultI, resultQ\n",
    "end"
   ]
  },
  {
   "cell_type": "code",
   "execution_count": null,
   "metadata": {},
   "outputs": [],
   "source": [
    "FFTW.fft(Complex{Float32}.([1,2,3,4,5,6,7,8,9,0],[1,0,1,0,1,0,1,0,1,0]))"
   ]
  },
  {
   "cell_type": "code",
   "execution_count": null,
   "metadata": {},
   "outputs": [],
   "source": [
    "FFTW.fft(Complex{Float16}.([1,2,3,4,5,6,7,8,9,0],[1,0,1,0,1,0,1,0,1,0]))"
   ]
  },
  {
   "cell_type": "code",
   "execution_count": null,
   "metadata": {},
   "outputs": [],
   "source": [
    "complexFFT([1,2,3,4,5,6,7,8,9,0],[1,0,1,0,1,0,1,0,1,0])"
   ]
  },
  {
   "cell_type": "markdown",
   "metadata": {},
   "source": [
    "# File Processing"
   ]
  },
  {
   "cell_type": "code",
   "execution_count": null,
   "metadata": {},
   "outputs": [],
   "source": [
    "loadFromSerialized = false\n",
    "signalRecords = []\n",
    "\n",
    "if loadFromSerialized\n",
    "    signalRecords = Serialization.deserialize(open(\"signalRecords2.ser\",\"r\"))\n",
    "    print(\"Loaded signalRecords\")\n",
    "else\n",
    "    file = open(\"ALPSRP271180830-L1.0/IMG-HH-ALPSRP271180830-H1.0__A\")\n",
    "\n",
    "    imageDescriptor = parseFile(file,imageFileDescrictorScheme)\n",
    "    sarDataBytes    = parse(Int64,imageDescriptor.fields[imageDescriptor.key[\"sarDataBytes\"]])\n",
    "    numSignals      = parse(Int64,imageDescriptor.fields[imageDescriptor.key[\"numSignals\"]])\n",
    "\n",
    "    signalRecords = [ ]\n",
    "\n",
    "    for i = 1:(numSignals-1)\n",
    "        parsedRecord = parseFile(file,signalDataRecordScheme,720+21100*i)\n",
    "        signal = parsedRecord.fields[parsedRecord.key[\"signalData\"]]\n",
    "\n",
    "        #TODO  - is 15 or 16 better?? compute mean of signals?\n",
    "        #TODO  - DEAL WITH VALUES > 0x1f!!\n",
    "        signal = map(x->min(0x1f,x), signal)\n",
    "\n",
    "        signal = Int8.(signal)-Int8.(15*ones(size(signal)))\n",
    "        I = signal[1:2:length(signal)]\n",
    "        Q = signal[2:2:length(signal)]\n",
    "\n",
    "        parsedRecord.key[\"I\"] = length(parsedRecord.fields)+1;\n",
    "        parsedRecord.key[\"Q\"] = length(parsedRecord.fields)+1;\n",
    "        push!(parsedRecord.fields, I)\n",
    "        push!(parsedRecord.fields, Q)\n",
    "\n",
    "        parsedRecord.fields[parsedRecord.key[\"signalData\"]] = []  #remove original signalData from record!\n",
    "\n",
    "        push!(signalRecords,parsedRecord)\n",
    "        if(i%10000==0)\n",
    "            print(i)\n",
    "            print(\"   \")\n",
    "            print(Base.summarysize(parsedRecord))\n",
    "            print(\"B    \")\n",
    "            print(Base.summarysize(signalRecords)/1e6)\n",
    "            println(\" MB\")\n",
    "        end\n",
    "    end\n",
    "    print(Base.summarysize(signalRecords)/1e6)\n",
    "    println(\" MB\")\n",
    "\n",
    "    close(file)\n",
    "    Serialization.serialize(open(\"signalRecords2.ser\",\"w\"),signalRecords)\n",
    "end\n",
    "        "
   ]
  },
  {
   "cell_type": "code",
   "execution_count": null,
   "metadata": {},
   "outputs": [],
   "source": [
    "#Serialization.serialize(open(\"/home/thatcher/Documents/12.421/signalRecords2.ser\",\"w\"),signalRecords)"
   ]
  },
  {
   "cell_type": "code",
   "execution_count": null,
   "metadata": {},
   "outputs": [],
   "source": [
    "#signalRecords = Serialization.deserialize(open(\"/home/thatcher/Documents/12.421/signalRecords2.ser\",\"r\"))\n",
    "#print(\"Loaded signalRecords\")"
   ]
  },
  {
   "cell_type": "code",
   "execution_count": null,
   "metadata": {
    "code_folding": [],
    "scrolled": true
   },
   "outputs": [],
   "source": [
    "#=\n",
    "file = open(\"ALPSRP271180830-L1.0/IMG-HH-ALPSRP271180830-H1.0__A\")\n",
    "\n",
    "imageDescriptor = parseFile(file,imageFileDescrictorScheme)\n",
    "sarDataBytes    = parse(Int64,imageDescriptor.fields[imageDescriptor.key[\"sarDataBytes\"]])\n",
    "numSignals      = parse(Int64,imageDescriptor.fields[imageDescriptor.key[\"numSignals\"]])\n",
    "\n",
    "signalRecords = [ ]\n",
    "\n",
    "for i = 1:(numSignals-1)\n",
    "    parsedRecord = parseFile(file,signalDataRecordScheme,720+21100*i)\n",
    "    signal = parsedRecord.fields[parsedRecord.key[\"signalData\"]]\n",
    "    \n",
    "    #TODO  - is 15 or 16 better?? compute mean of signals?\n",
    "    #TODO  - DEAL WITH VALUES > 0x1f!!\n",
    "    signal = map(x->min(0x1f,x), signal)\n",
    "    \n",
    "    signal = Int8.(signal)-Int8.(15*ones(size(signal)))\n",
    "    I = signal[1:2:length(signal)]\n",
    "    Q = signal[2:2:length(signal)]\n",
    "\n",
    "    parsedRecord.key[\"I\"] = length(parsedRecord.fields)+1;\n",
    "    parsedRecord.key[\"Q\"] = length(parsedRecord.fields)+1;\n",
    "    push!(parsedRecord.fields, I)\n",
    "    push!(parsedRecord.fields, Q)\n",
    "    \n",
    "    parsedRecord.fields[parsedRecord.key[\"signalData\"]] = []  #remove original signalData from record!\n",
    "    \n",
    "    push!(signalRecords,parsedRecord)\n",
    "    if(i%10000==0)\n",
    "        print(i)\n",
    "        print(\"   \")\n",
    "        print(Base.summarysize(parsedRecord))\n",
    "        print(\"B    \")\n",
    "        print(Base.summarysize(signalRecords)/1e6)\n",
    "        println(\" MB\")\n",
    "    end\n",
    "end\n",
    "print(Base.summarysize(signalRecords)/1e6)\n",
    "println(\" MB\")\n",
    "\n",
    "close(file)\n",
    "=#"
   ]
  },
  {
   "cell_type": "code",
   "execution_count": null,
   "metadata": {},
   "outputs": [],
   "source": []
  },
  {
   "cell_type": "code",
   "execution_count": null,
   "metadata": {},
   "outputs": [],
   "source": [
    "rec = signalRecords[110]\n",
    "rec.fields[rec.key[\"Mechanical Squint\"]]"
   ]
  },
  {
   "cell_type": "markdown",
   "metadata": {},
   "source": [
    "Size of original dictionary based-implementation:\n",
    "\n",
    "5811778483 bytes = 5811 MB\n",
    "Now down to "
   ]
  },
  {
   "cell_type": "markdown",
   "metadata": {},
   "source": [
    "## TODO:\n",
    "Rewrite without dictionaries. signalRecords takes up 5.8e9 bytes which is wayyy too big! like 8 times too big. Maybe with tuples (named tuples?) this could be much smaller. (and faster)"
   ]
  },
  {
   "cell_type": "markdown",
   "metadata": {},
   "source": [
    "# Chirp Finding\n",
    "Found a nice clean signal on signal 25850 at pixel 3395"
   ]
  },
  {
   "cell_type": "code",
   "execution_count": null,
   "metadata": {},
   "outputs": [],
   "source": [
    "#process header\n",
    "file = open(\"ALPSRP271180830-L1.0/LED-ALPSRP271180830-H1.0__A\")\n",
    "rec = parseFile(file,datasetSummaryRecordScheme,720)\n",
    "#rec.fields[rec.key[\"PRF\"]]\n",
    "\n",
    "f = 1.2700000E+09\n",
    "fdot = -1.0370370E+12\n",
    "sampleRate = 32e6     #Hz\n",
    "pulseLength = 27e-6   #s\n",
    "#pulseSamples = Integer(floor(pulseLength*sampleRate))\n",
    "pulseSamples = 80\n",
    "print(\"Max IF freq: \")\n",
    "println(fdot*pulseLength)\n",
    "Sif(t) = exp(-2*pi*im*(fdot*t)*t)\n",
    "t = 1/sampleRate* (range(1, stop = pulseSamples) |> collect)\n",
    "\n",
    "sig = Sif.(t)/sqrt(pulseSamples)\n",
    "\n",
    "rangeCells = 10000\n",
    "\n",
    "chirpI = vcat(real(sig),zeros(rangeCells-length(sig)))\n",
    "chirpQ = vcat(imag(sig),zeros(rangeCells-length(sig)))\n",
    "\n",
    "chirpFFTI, chirpFFTQ = complexFFT(chirpI,chirpQ)\n",
    "complexChirpFFT = Complex.(chirpFFTI,chirpFFTQ)\n",
    "\n",
    "close(file)\n",
    "print(\"Ready\")"
   ]
  },
  {
   "cell_type": "markdown",
   "metadata": {
    "heading_collapsed": true
   },
   "source": [
    "### Old Approach\n",
    "Find what looks like a pulse in the image"
   ]
  },
  {
   "cell_type": "code",
   "execution_count": null,
   "metadata": {
    "hidden": true
   },
   "outputs": [],
   "source": [
    "start = 3395     #pixels, 1 indexed\n",
    "len = 80      #pixels\n",
    "rec = signalRecords[25850]\n",
    "I = rec.fields[rec.key[\"I\"]]\n",
    "Q = rec.fields[rec.key[\"Q\"]]\n",
    "chirpIfrag = I[start:1:start+len]\n",
    "chirpQfrag = Q[start:1:start+len]\n",
    "plot(chirpIfrag)\n",
    "plot!(chirpQfrag)\n",
    "#chirpI = vcat(chirpIfrag,zeros(length(I)-length(chirpIfrag)))\n",
    "#chirpQ = vcat(chirpQfrag,zeros(length(Q)-length(chirpQfrag)))"
   ]
  },
  {
   "cell_type": "markdown",
   "metadata": {},
   "source": [
    "# Image Forming"
   ]
  },
  {
   "cell_type": "code",
   "execution_count": null,
   "metadata": {},
   "outputs": [],
   "source": [
    "showRaw = false;\n",
    "loadSmallSignalsFromSerialized = false\n",
    "\n",
    "if loadSmallSignalsFromSerialized\n",
    "    smallSignals = Serialization.deserialize(open(\"smallSignals.ser\",\"r\"))\n",
    "    smallSignals = smallSignals'\n",
    "    print(\"Loaded smallSignals\")\n",
    "else\n",
    "    #sub image formation:\n",
    "    signalRecords = Serialization.deserialize(open(\"signalRecords2.ser\",\"r\"))\n",
    "    println(\"Loaded signalRecords\")\n",
    "\n",
    "    sampleNum = 10000 #how many samples of each echo to keep\n",
    "    echoNum = 5000  #how many echos to keep\n",
    "    echostart = 1\n",
    "\n",
    "    smallSignals = zeros(Complex{Float16},sampleNum,echoNum)\n",
    "\n",
    "    #This is soooooo much faster than hcatS!!!!\n",
    "    #https://stackoverflow.com/questions/38308053/julia-how-to-fill-a-matrix-row-by-row-in-julia\n",
    "    for i = echostart+1:echostart+echoNum\n",
    "        rec = signalRecords[i]\n",
    "        I = Float16.(rec.fields[rec.key[\"I\"]])\n",
    "        Q = Float16.(rec.fields[rec.key[\"Q\"]])\n",
    "\n",
    "        smallSignals[:,i-echostart] = Complex.(I[1:sampleNum],Q[1:sampleNum])\n",
    "    end\n",
    "\n",
    "    println(\"Done\")\n",
    "end"
   ]
  },
  {
   "cell_type": "code",
   "execution_count": null,
   "metadata": {},
   "outputs": [],
   "source": []
  },
  {
   "cell_type": "code",
   "execution_count": null,
   "metadata": {
    "code_folding": []
   },
   "outputs": [],
   "source": []
  },
  {
   "cell_type": "code",
   "execution_count": null,
   "metadata": {},
   "outputs": [],
   "source": [
    "signalRecords = []"
   ]
  },
  {
   "cell_type": "code",
   "execution_count": null,
   "metadata": {},
   "outputs": [],
   "source": [
    "#Serialization.serialize(open(\"smallSignalsBigger.ser\",\"w\"),smallSignals)"
   ]
  },
  {
   "cell_type": "code",
   "execution_count": null,
   "metadata": {},
   "outputs": [],
   "source": [
    "shape = size(smallSignals)\n",
    "\n",
    "pixelsPerStrip = shape[1]\n",
    "\n",
    "cimg = zeros(Complex{Float16},shape)\n",
    "if showRaw\n",
    "    img =  zeros(Float64,shape)\n",
    "end\n",
    "\n",
    "for i = 1:shape[2]\n",
    "    \n",
    "    mag = abs.(smallSignals[:,i])\n",
    "    I = real.(smallSignals[:,i])\n",
    "    Q = imag.(smallSignals[:,i])\n",
    "    ####### Range Compression\n",
    "    \n",
    "    signalFFTI, signalFFTQ = complexFFT(I,Q)\n",
    "    complexSignalFFT = Complex.(signalFFTI,signalFFTQ)\n",
    "    #print(\"#\")\n",
    "    crossCorrelated = FFTW.ifft(conj.(complexChirpFFT).*complexSignalFFT)\n",
    "    I = real(crossCorrelated)\n",
    "    Q = imag(crossCorrelated)\n",
    "    \n",
    "    ####### End Range Compression\n",
    "    \n",
    "    complex = Complex.(I,Q)\n",
    "    cimg[:, i] = complex\n",
    "    if showRaw\n",
    "        img[:, i]  = mag\n",
    "    end\n",
    "    if i%1000 == 1\n",
    "        println(i)\n",
    "    end\n",
    "end\n",
    "\n",
    "if showRaw\n",
    "    img = img'\n",
    "end\n",
    "cimg= cimg'\n",
    "\n",
    "print(\"Done\")"
   ]
  },
  {
   "cell_type": "code",
   "execution_count": null,
   "metadata": {},
   "outputs": [],
   "source": [
    "\n",
    "img = []"
   ]
  },
  {
   "cell_type": "markdown",
   "metadata": {},
   "source": [
    "### Range Cell Migration Correction\n",
    "Going to using the Range Doppler Algorithm. Take range compressed data, fourier transform along each line of constant range, then interpolate by a azimuth-frequency-dependent amount to correct for range cell migration.\n",
    "\n",
    "Could image at this point, but probably won't look different. \n",
    "\n",
    "After that, do azimuth compression as usual. To be efficient, don't apply IFFT to RCM corrected data and instead use that direction in the azimuth convolutions.\n",
    "\n",
    "Range shift at each frequency is:\n",
    "$$\\Delta R(f_n) = \\frac{\\lambda^2 R_0 f_n^2}{8 V_r^2}$$\n",
    "Where $R_0$ is the distance of closest approach, $V_r$ is the effective radar velocity (Cummings and Wong pg. 235)\n"
   ]
  },
  {
   "cell_type": "code",
   "execution_count": null,
   "metadata": {},
   "outputs": [],
   "source": [
    "rcmc = zeros(Complex{Float16},size(cimg))\n",
    "Vr = vorbital\n",
    "\n",
    "rcmcft = zeros(Complex{Float16},size(cimg))\n",
    "\n",
    "for i = 1:size(cimg)[2]\n",
    "    line = cimg[:,i]\n",
    "    lineI = real(line)\n",
    "    lineQ = imag(line)\n",
    "\n",
    "    ####### Fourier Transforming\n",
    "\n",
    "    lineFFTI, lineFFTQ = complexFFT(lineI,lineQ)\n",
    "    complexLineFFT = Complex.(lineFFTI,lineFFTQ)\n",
    "\n",
    "    rcmcft[:,i] = complexLineFFT\n",
    "    if i%1000 == 1\n",
    "        print(\"#\")\n",
    "    end\n",
    "end\n",
    "\n",
    "\n",
    "2"
   ]
  },
  {
   "cell_type": "code",
   "execution_count": null,
   "metadata": {},
   "outputs": [],
   "source": [
    "#now we want to shift each frequency in range space, so make each frequency bin a column for speed\n",
    "rcmcft = rcmcft'\n",
    "rcmc = rcmc'\n",
    "shape = size(rcmcft)\n",
    "\n",
    "rangeCellLength = 3e8/sampleRate * 0.75\n",
    "\n",
    "for i = 1:shape[2]\n",
    "    n = i\n",
    "    #the \"highest frequencies\" are actually the negative frequencies aliased up!\n",
    "    if n>shape[2]/2\n",
    "        n = shape[2]-i\n",
    "    end\n",
    "    fn = n-1/shape[2]*PRF    #check this but pretty sure\n",
    "    \n",
    "    #range migration distance in meters\n",
    "    ΔR = wavelength^2*R0*fn^2/(8*Vr^2)\n",
    "    c = 3e8\n",
    "    cellshift = Integer(round(ΔR/rangeCellLength))\n",
    "    #cellshift = Integer(round(ΔR/c))\n",
    "    \n",
    "    #interpolation\n",
    "    #NEAREST NEIGHBOR - bad!\n",
    "    rcmc[:,i] = vcat(rcmcft[cellshift+1:shape[1],i],zeros(Complex{Float64},cellshift))\n",
    "    \n",
    "    if n%1000==0\n",
    "        print(n)\n",
    "        print(\"  \")\n",
    "        println(cellshift)\n",
    "    end\n",
    "end\n",
    "rcmcft = rcmcft'\n",
    "shifted = rcmc'\n",
    "2"
   ]
  },
  {
   "cell_type": "markdown",
   "metadata": {},
   "source": [
    "### Azimuth Compression!!\n",
    "need PRF, altitude, initial range, ground speed, wavelength\n",
    "$$R(s) = \\sqrt{R_0^2+s^2v^2} = R_0+\\dot{R}_0s+\\frac{1}{2}\\ddot{R}_0s^2$$\n",
    "$$C(s) = e^{i \\frac{4\\pi}{\\lambda} R(s)}$$ (4pi comes from: phase shift due to distance is 2pi, but you go there and back so phase shift is doubled)\n",
    "Sample $C(s)$ at $s=n/PRF$\n",
    "\n",
    "For zero doppler shift (kinda naive case but fine), $\\dot{R}_0 = 0$ and $\\ddot{R}_0 = \\frac{v^2}{R_0}$\n",
    "\n",
    "**Note:** this all only works for the first pixels!! Need to correct $R_0$ as we move out from the ground track."
   ]
  },
  {
   "cell_type": "code",
   "execution_count": null,
   "metadata": {},
   "outputs": [],
   "source": [
    "R0 = 848965       #m\n",
    "PRF = 2141.3276231263  #Hz\n",
    "\n",
    "a = (6371+628)*1000.0  #m            #https://www.eorc.jaxa.jp/ALOS-2/en/about/overview.htm\n",
    "G = 6.67408e-11\n",
    "Me= 5.97219e24       #kg\n",
    "P = sqrt(4*pi^2/(G*Me)*a^3)\n",
    "print(\"Period: \")\n",
    "print(P/3600)\n",
    "println(\" h\")\n",
    "vorbital = 2pi*a/P            #These are terrible assumptions!!!!!!!\n",
    "vground = 2pi*6371000.0/P     #These are terrible assumptions!!!!!!!!\n",
    "println(\"Orbital Velocity: \",vorbital,\" m/s\")\n",
    "println(\"Ground~~ Velocity: \",vground,\" m/s\")\n",
    "\n",
    "\n",
    "wavelength = 0.2360571 #m\n",
    "\n",
    "R(s) = R0 + 1/2*vorbital^2/R0*s^2\n",
    "C(s) = exp(-4pi*im/wavelength*R(s))\n",
    "\n",
    "width = 400\n",
    "s = 1/PRF*(range(-width, stop = width) |> collect)\n",
    "\n",
    "sig = C.(s)/sqrt(width)\n",
    "\n",
    "azimuthI = vcat(real(sig),zeros(size(cimg)[1]-length(sig)))\n",
    "azimuthQ = vcat(imag(sig),zeros(size(cimg)[1]-length(sig)))\n",
    "\n",
    "azimuthFFTI, azimuthFFTQ = complexFFT(azimuthI,azimuthQ)\n",
    "complexAzimuthFFT = Complex.(azimuthFFTI,azimuthFFTQ)\n",
    "\n",
    "print(\"Ready\")"
   ]
  },
  {
   "cell_type": "code",
   "execution_count": null,
   "metadata": {},
   "outputs": [],
   "source": [
    "azcomp = zeros(Float16,size(cimg))\n",
    "\n",
    "for i = 1:size(cimg)[2]\n",
    "    line = cimg[:,i]\n",
    "    lineI = real(line)\n",
    "    lineQ = imag(line)\n",
    "    \n",
    "    ####### Azimuth Compression\n",
    "    \n",
    "    #lineFFTI, lineFFTQ = complexFFT(lineI,lineQ)\n",
    "    lineFFTI = real(shifted[:,i])\n",
    "    lineFFTQ = imag(shifted[:,i])\n",
    "    complexLineFFT = Complex.(lineFFTI,lineFFTQ)\n",
    "    crossCorrelated = FFTW.ifft(conj.(complexAzimuthFFT).*complexLineFFT)\n",
    "    I = real(crossCorrelated)\n",
    "    Q = imag(crossCorrelated)\n",
    "    \n",
    "    ####### End Azimuth Compression\n",
    "    \n",
    "    \n",
    "    #complex = Complex.(I,Q)\n",
    "    result = abs.(I.^2+Q.^2)\n",
    "    azcomp[:,i] = result\n",
    "    if i%1000 == 1\n",
    "        print(\"#\")\n",
    "    end\n",
    "end\n",
    "azcomp = azcomp'\n",
    "2"
   ]
  },
  {
   "cell_type": "markdown",
   "metadata": {},
   "source": [
    "## Images"
   ]
  },
  {
   "cell_type": "code",
   "execution_count": null,
   "metadata": {},
   "outputs": [],
   "source": [
    "#magnitude image formation\n",
    "scaling = 10\n",
    "shape = size(azcomp)\n",
    "#raw = abs.(view(transpose(img),\n",
    "#                1:scaling:5000,\n",
    "#                1:scaling:8000))\n",
    "#rangecompmag = (abs.(view(transpose(cimg),\n",
    "#                1:scaling:5000,\n",
    "#                1:scaling:8000)))\n",
    "#rcmcftmag = (abs.(view(rcmc,\n",
    "#                1:scaling:5000,\n",
    "#                1:scaling:8000)))\n",
    "azcompmag = (abs.(view(azcomp,\n",
    "                1:scaling:shape[1],\n",
    "                1:scaling:shape[2])))\n",
    "#reduced = zeros(pixelsPerStrip)\n",
    "#for c=1:(length(reduced)-2)                 #TODO why is -2 here??\n",
    "#    reduced[c] = sum(mag[c*pixelStep:(c+1)*pixelStep])/pixelStep\n",
    "#end\n",
    "print(\"Ready\")"
   ]
  },
  {
   "cell_type": "code",
   "execution_count": null,
   "metadata": {
    "scrolled": true
   },
   "outputs": [],
   "source": [
    "imshow(azcompmag)"
   ]
  },
  {
   "cell_type": "code",
   "execution_count": null,
   "metadata": {},
   "outputs": [],
   "source": [
    "imshow(raw)"
   ]
  },
  {
   "cell_type": "code",
   "execution_count": null,
   "metadata": {},
   "outputs": [],
   "source": [
    "imshow(rangecompmag)"
   ]
  },
  {
   "cell_type": "code",
   "execution_count": null,
   "metadata": {},
   "outputs": [],
   "source": [
    "imshow(rcmcftmag)"
   ]
  },
  {
   "cell_type": "markdown",
   "metadata": {},
   "source": [
    "## Image Notes:\n",
    "There are a few interesting features: one is very long saturated strips that fill out most of an entire signal data record. This might have to be removed.... not sure why they are present at all.\n",
    "\n",
    "The other feature is short dashes that are ~67 pixels long in the vertical direction. I suspect the pulse length is 67 sampling intervals long."
   ]
  },
  {
   "cell_type": "code",
   "execution_count": null,
   "metadata": {},
   "outputs": [],
   "source": []
  }
 ],
 "metadata": {
  "@webio": {
   "lastCommId": null,
   "lastKernelId": null
  },
  "kernelspec": {
   "display_name": "Julia 1.5.1",
   "language": "julia",
   "name": "julia-1.5"
  },
  "language_info": {
   "file_extension": ".jl",
   "mimetype": "application/julia",
   "name": "julia",
   "version": "1.5.1"
  }
 },
 "nbformat": 4,
 "nbformat_minor": 2
}
